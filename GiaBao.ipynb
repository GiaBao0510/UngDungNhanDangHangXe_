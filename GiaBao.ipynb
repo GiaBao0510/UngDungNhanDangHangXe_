{
 "cells": [
  {
   "cell_type": "markdown",
   "metadata": {},
   "source": [
    "#1. Thêm thư viện"
   ]
  },
  {
   "cell_type": "code",
   "execution_count": 30,
   "metadata": {},
   "outputs": [],
   "source": [
    "import numpy as np\n",
    "import pandas as pd\n",
    "import matplotlib.pyplot as plt\n",
    "import os\n",
    "import cv2\n",
    "from sklearn.model_selection import train_test_split\n",
    "from keras.models import Sequential\n",
    "from keras.layers import Dense, Dropout, Activation, Convolution2D, MaxPooling2D, Flatten\n",
    "from tensorflow.keras import utils\n",
    "import tensorflow as tf\n",
    "from tensorflow import keras\n"
   ]
  },
  {
   "cell_type": "markdown",
   "metadata": {},
   "source": [
    "#2. Đường dẫn và mảng lưu trữ tên lớp"
   ]
  },
  {
   "cell_type": "code",
   "execution_count": 31,
   "metadata": {},
   "outputs": [],
   "source": [
    "path = \"Class/\"\n",
    "categories = ['Audi', 'hyundai', 'lexus', 'mazda', 'Mercedes', 'toyota', 'volkswagen','opel']\n"
   ]
  },
  {
   "cell_type": "markdown",
   "metadata": {},
   "source": [
    "#3. Khởi tạo dữ liệu và lớp"
   ]
  },
  {
   "cell_type": "code",
   "execution_count": 48,
   "metadata": {},
   "outputs": [],
   "source": [
    "data = []       #\n",
    "labels = []     #Lưu chỉ số lớp\n",
    "imagePaths = [] #Lưu trữ đường dẫn ảnh và chỉ số nhãn về nó\n",
    "\n",
    "HEIGHT = 75\n",
    "WIDTH = 75\n",
    "\n",
    "N_CHANNELS = 3 #Kênh màu"
   ]
  },
  {
   "cell_type": "markdown",
   "metadata": {},
   "source": [
    "#4.Xáo trộn đường dẫn 1 cách ngẫu nhiên lưu vào mảng \"data\" và đưa các hình ảnh về chung chuẩn"
   ]
  },
  {
   "cell_type": "code",
   "execution_count": 49,
   "metadata": {},
   "outputs": [
    {
     "name": "stdout",
     "output_type": "stream",
     "text": [
      "[['Class/lexus/images39.jpg', 2], ['Class/lexus/images207.jpg', 2], ['Class/lexus/a34_rotate_180_37.jpg', 2], ['Class/lexus/images220_rotate_180_154.jpg', 2], ['Class/Audi/audi (1467).jpg', 0], ['Class/mazda/rBgICV3FBDeAP38CAAAsOzSFp3w408.jpg', 3], ['Class/hyundai/images172_rotate_180_72.jpg', 1], ['Class/Mercedes/mercede (25).jpg', 4], ['Class/volkswagen/images143_rotate_180_83.jpg', 6], ['Class/mazda/default_rotate_90_150.jpg', 3]]\n",
      "Labels\n",
      "[2 2 2 ... 2 4 6]\n"
     ]
    }
   ],
   "source": [
    "#Lưu đường dẫn và lớp và mảng imagePaths\n",
    "for index ,name in enumerate(categories):\n",
    "    for file in os.listdir(path+name):\n",
    "        imagePaths.append([path+name+'/'+file, index])\n",
    "\n",
    "#Xáo trộn dữ liệu\n",
    "import random\n",
    "random.shuffle(imagePaths)\n",
    "print(imagePaths[:10])\n",
    "\n",
    "#Đưa các hình ảnh về kích cỡ tiêu chuẩn\n",
    "for imagePath in imagePaths:\n",
    "    image = cv2.imread(imagePath[0])            #Đọc hình ảnh thông qua đường dẫn\n",
    "    image = cv2.resize(image, (WIDTH, HEIGHT))  #resize hình ảnh\n",
    "    data.append(image)\n",
    "\n",
    "    labels.append( int(imagePath[1]) )               #Lưu chỉ số theo ngẫu nhiên\n",
    "\n",
    "\n",
    "#Tiền xử lý dữ liệu\n",
    "data = np.array(data, dtype='float')/255\n",
    "labels = np.array(labels)\n",
    "\n",
    "print('Labels')\n",
    "print(labels)\n",
    "# print('Data')\n",
    "# print(data)"
   ]
  },
  {
   "cell_type": "markdown",
   "metadata": {},
   "source": [
    "<h2>5# Chia tập dữ liệu</h2>"
   ]
  },
  {
   "cell_type": "code",
   "execution_count": 50,
   "metadata": {},
   "outputs": [
    {
     "name": "stdout",
     "output_type": "stream",
     "text": [
      "(4743, 75, 75, 3)\n",
      "(2034, 75, 75, 3)\n",
      "(4743, 8)\n",
      "(2034,)\n"
     ]
    }
   ],
   "source": [
    "\n",
    "(X_train, X_test, Y_train, Y_test) = train_test_split(data, labels, test_size=0.3, random_state=42)\n",
    "\n",
    "#Tiền xử lý các lớp\n",
    "Y_train = utils.to_categorical(Y_train, num_classes=len(categories))\n",
    "print(X_train.shape)\n",
    "print(X_test.shape)\n",
    "print(Y_train.shape)\n",
    "print(Y_test.shape)\n"
   ]
  },
  {
   "cell_type": "markdown",
   "metadata": {},
   "source": [
    "#6. Các thông số quan trọng"
   ]
  },
  {
   "cell_type": "code",
   "execution_count": 51,
   "metadata": {},
   "outputs": [],
   "source": [
    "EPOCH = 35  #Số lần học lại\n",
    "BS = 24 #Số cụm học\n",
    "INIT_LR = 1e-3\n",
    "\n",
    "class_name = categories"
   ]
  },
  {
   "cell_type": "markdown",
   "metadata": {},
   "source": [
    "#7.1 Mô hình kiến trúc xây dựng lenet"
   ]
  },
  {
   "cell_type": "code",
   "execution_count": 62,
   "metadata": {},
   "outputs": [
    {
     "name": "stdout",
     "output_type": "stream",
     "text": [
      "Model: \"sequential_13\"\n",
      "_________________________________________________________________\n",
      " Layer (type)                Output Shape              Param #   \n",
      "=================================================================\n",
      " conv2d_945 (Conv2D)         (None, 75, 75, 32)        2432      \n",
      "                                                                 \n",
      " max_pooling2d_43 (MaxPooli  (None, 37, 37, 32)        0         \n",
      " ng2D)                                                           \n",
      "                                                                 \n",
      " conv2d_946 (Conv2D)         (None, 33, 33, 32)        25632     \n",
      "                                                                 \n",
      " flatten_8 (Flatten)         (None, 34848)             0         \n",
      "                                                                 \n",
      " dense_13 (Dense)            (None, 256)               8921344   \n",
      "                                                                 \n",
      " dense_14 (Dense)            (None, 84)                21588     \n",
      "                                                                 \n",
      " dense_15 (Dense)            (None, 8)                 680       \n",
      "                                                                 \n",
      "=================================================================\n",
      "Total params: 8971676 (34.22 MB)\n",
      "Trainable params: 8971676 (34.22 MB)\n",
      "Non-trainable params: 0 (0.00 Byte)\n",
      "_________________________________________________________________\n",
      "None\n",
      "Epoch 1/35\n",
      "198/198 [==============================] - 39s 183ms/step - loss: 1.7230 - accuracy: 0.3226\n",
      "Epoch 2/35\n",
      "198/198 [==============================] - 38s 194ms/step - loss: 1.3584 - accuracy: 0.4773\n",
      "Epoch 3/35\n",
      "198/198 [==============================] - 32s 160ms/step - loss: 1.0400 - accuracy: 0.6161\n",
      "Epoch 4/35\n",
      "198/198 [==============================] - 35s 175ms/step - loss: 0.6915 - accuracy: 0.7493\n",
      "Epoch 5/35\n",
      "198/198 [==============================] - 44s 220ms/step - loss: 0.4013 - accuracy: 0.8619\n",
      "Epoch 6/35\n",
      "198/198 [==============================] - 36s 180ms/step - loss: 0.2213 - accuracy: 0.9325\n",
      "Epoch 7/35\n",
      "198/198 [==============================] - 41s 207ms/step - loss: 0.1696 - accuracy: 0.9477\n",
      "Epoch 8/35\n",
      "198/198 [==============================] - 47s 238ms/step - loss: 0.1016 - accuracy: 0.9715\n",
      "Epoch 9/35\n",
      "198/198 [==============================] - 46s 232ms/step - loss: 0.0883 - accuracy: 0.9751\n",
      "Epoch 10/35\n",
      "198/198 [==============================] - 44s 220ms/step - loss: 0.0867 - accuracy: 0.9755\n",
      "Epoch 11/35\n",
      "198/198 [==============================] - 52s 261ms/step - loss: 0.0247 - accuracy: 0.9939\n",
      "Epoch 12/35\n",
      "198/198 [==============================] - 41s 205ms/step - loss: 0.0292 - accuracy: 0.9922\n",
      "Epoch 13/35\n",
      "198/198 [==============================] - 38s 189ms/step - loss: 0.0377 - accuracy: 0.9903\n",
      "Epoch 14/35\n",
      "198/198 [==============================] - 34s 173ms/step - loss: 0.0231 - accuracy: 0.9943\n",
      "Epoch 15/35\n",
      "198/198 [==============================] - 34s 170ms/step - loss: 0.0320 - accuracy: 0.9916\n",
      "Epoch 16/35\n",
      "198/198 [==============================] - 34s 169ms/step - loss: 0.0559 - accuracy: 0.9844\n",
      "Epoch 17/35\n",
      "198/198 [==============================] - 33s 168ms/step - loss: 0.0550 - accuracy: 0.9873\n",
      "Epoch 18/35\n",
      "198/198 [==============================] - 34s 169ms/step - loss: 0.0221 - accuracy: 0.9937\n",
      "Epoch 19/35\n",
      "198/198 [==============================] - 34s 173ms/step - loss: 0.0317 - accuracy: 0.9926\n",
      "Epoch 20/35\n",
      "198/198 [==============================] - 34s 172ms/step - loss: 0.0146 - accuracy: 0.9975\n",
      "Epoch 21/35\n",
      "198/198 [==============================] - 34s 171ms/step - loss: 0.0221 - accuracy: 0.9962\n",
      "Epoch 22/35\n",
      "198/198 [==============================] - 34s 171ms/step - loss: 0.0087 - accuracy: 0.9970\n",
      "Epoch 23/35\n",
      "198/198 [==============================] - 35s 177ms/step - loss: 0.0032 - accuracy: 0.9992\n",
      "Epoch 24/35\n",
      "198/198 [==============================] - 36s 183ms/step - loss: 0.0021 - accuracy: 0.9996\n",
      "Epoch 25/35\n",
      "198/198 [==============================] - 36s 182ms/step - loss: 9.7635e-04 - accuracy: 0.9996\n",
      "Epoch 26/35\n",
      "198/198 [==============================] - 33s 168ms/step - loss: 8.0599e-04 - accuracy: 0.9998\n",
      "Epoch 27/35\n",
      "198/198 [==============================] - 34s 170ms/step - loss: 0.0010 - accuracy: 0.9996\n",
      "Epoch 28/35\n",
      "198/198 [==============================] - 34s 174ms/step - loss: 0.0015 - accuracy: 0.9994\n",
      "Epoch 29/35\n",
      "198/198 [==============================] - 35s 177ms/step - loss: 0.0024 - accuracy: 0.9996\n",
      "Epoch 30/35\n",
      "198/198 [==============================] - 34s 173ms/step - loss: 0.0020 - accuracy: 0.9998\n",
      "Epoch 31/35\n",
      "198/198 [==============================] - 37s 185ms/step - loss: 8.2386e-04 - accuracy: 0.9998\n",
      "Epoch 32/35\n",
      "198/198 [==============================] - 34s 170ms/step - loss: 9.9580e-04 - accuracy: 0.9996\n",
      "Epoch 33/35\n",
      "198/198 [==============================] - 34s 170ms/step - loss: 4.7061e-04 - accuracy: 0.9998\n",
      "Epoch 34/35\n",
      "198/198 [==============================] - 34s 171ms/step - loss: 5.7842e-04 - accuracy: 0.9996\n",
      "Epoch 35/35\n",
      "198/198 [==============================] - 34s 169ms/step - loss: 0.1318 - accuracy: 0.9637\n"
     ]
    },
    {
     "data": {
      "text/plain": [
       "<keras.src.callbacks.History at 0x23018cd1e50>"
      ]
     },
     "execution_count": 62,
     "metadata": {},
     "output_type": "execute_result"
    }
   ],
   "source": [
    "model = Sequential()\n",
    "model.add(Convolution2D(filters=32, kernel_size=(5,5), padding='same', activation='relu', input_shape=(WIDTH, HEIGHT, N_CHANNELS)))\n",
    "model.add(MaxPooling2D(strides=2))\n",
    "model.add(Convolution2D(filters=32, kernel_size=(5,5), padding='valid', activation='relu'))\n",
    "model.add(Flatten())        #Chuyền từ 2D or 3D sang 1D\n",
    "model.add(Dense(256, activation='relu'))\n",
    "model.add(Dense(84, activation='relu'))\n",
    "model.add(Dense(len(categories), activation='softmax'))\n",
    "\n",
    "opt = tf.keras.optimizers.legacy.Adam(learning_rate=INIT_LR, decay=INIT_LR/EPOCH )\n",
    "model.compile(loss='categorical_crossentropy', optimizer=opt, metrics=['accuracy'])\n",
    "print(model.summary())\n",
    "\n",
    "model.fit(X_train, Y_train, batch_size=BS, epochs=EPOCH, verbose=1)"
   ]
  },
  {
   "cell_type": "markdown",
   "metadata": {},
   "source": [
    "#7.2 Mô hình kiến trúc xây dựng InceptionV3"
   ]
  },
  {
   "cell_type": "code",
   "execution_count": 78,
   "metadata": {},
   "outputs": [
    {
     "name": "stdout",
     "output_type": "stream",
     "text": [
      "[INFO] compiling model...\n"
     ]
    }
   ],
   "source": [
    "import tensorflow as tf\n",
    "from tensorflow.keras.applications import InceptionV3\n",
    "from tensorflow.keras.layers import Dense, GlobalAveragePooling2D, Dropout, Flatten\n",
    "from tensorflow.keras.models import Sequential\n",
    "\n",
    "print(\"[INFO] compiling model...\")\n",
    "\n",
    "input_shape = (75, 75, 3)\n",
    "num_classes = len(class_name)  # Provide the correct number of classes\n",
    "\n",
    "base_model = InceptionV3(input_shape=input_shape, include_top=False, weights='imagenet')\n",
    "for layer in base_model.layers:\n",
    "    layer.trainable = False\n",
    "\n",
    "model = Sequential()\n",
    "model.add(base_model)\n",
    "model.add(GlobalAveragePooling2D())\n",
    "model.add(Dropout(0.5))\n",
    "model.add(Flatten())\n",
    "model.add(Dense(num_classes, activation='softmax'))\n",
    "\n",
    "opt = tf.keras.optimizers.legacy.Adam(learning_rate=INIT_LR, decay=INIT_LR / EPOCH)\n",
    "model.compile(loss=\"categorical_crossentropy\", optimizer=opt, metrics=[\"accuracy\"])"
   ]
  },
  {
   "cell_type": "markdown",
   "metadata": {},
   "source": [
    "#8. Lưu mô hình và đánh giá mô hình"
   ]
  },
  {
   "cell_type": "code",
   "execution_count": 79,
   "metadata": {},
   "outputs": [
    {
     "name": "stdout",
     "output_type": "stream",
     "text": [
      "64/64 [==============================] - 25s 325ms/step\n"
     ]
    },
    {
     "name": "stderr",
     "output_type": "stream",
     "text": [
      "C:\\Users\\VTOS\\AppData\\Local\\Temp\\ipykernel_10356\\3985579406.py:16: UserWarning: set_ticklabels() should only be used with a fixed number of ticks, i.e. after set_ticks() or using a FixedLocator.\n",
      "  ax.set_xticklabels(['']+ categories)\n",
      "C:\\Users\\VTOS\\AppData\\Local\\Temp\\ipykernel_10356\\3985579406.py:17: UserWarning: set_ticklabels() should only be used with a fixed number of ticks, i.e. after set_ticks() or using a FixedLocator.\n",
      "  ax.set_yticklabels(['']+ categories)\n"
     ]
    },
    {
     "data": {
      "image/png": "[encoded data removed]",
      "text/plain": [
       "<Figure size 640x480 with 2 Axes>"
      ]
     },
     "metadata": {},
     "output_type": "display_data"
    }
   ],
   "source": [
    "model.save_weights('inceptionV3.h5')\n",
    "\n",
    "from numpy import argmax\n",
    "from sklearn.metrics import confusion_matrix, accuracy_score\n",
    "\n",
    "pred = model.predict(X_test)\n",
    "predictions = argmax(pred, axis=1)  #trả đến nhãn\n",
    "\n",
    "cm = confusion_matrix(Y_test, predictions) #Ma trận tương quan\n",
    "\n",
    "fig = plt.figure()\n",
    "ax = fig.add_subplot(111)\n",
    "cax = ax.matshow(cm)\n",
    "plt.title('Model confusion matrix')\n",
    "fig.colorbar(cax)\n",
    "ax.set_xticklabels(['']+ categories)\n",
    "ax.set_yticklabels(['']+ categories)\n",
    "\n",
    "for i in range(len(categories)): \n",
    "    for j in range(len(categories)):\n",
    "        ax.text(i, j, cm[i,j], va='center', ha='center')\n",
    "\n",
    "plt.xlabel('Predicted')\n",
    "plt.ylabel('True')\n",
    "plt.show()"
   ]
  },
  {
   "cell_type": "markdown",
   "metadata": {},
   "source": [
    "#9. Xác định độ chính xác"
   ]
  },
  {
   "cell_type": "code",
   "execution_count": 80,
   "metadata": {},
   "outputs": [
    {
     "name": "stdout",
     "output_type": "stream",
     "text": [
      "Accuracy: 13.13%\n"
     ]
    }
   ],
   "source": [
    "accuracy = accuracy_score(Y_test, predictions)\n",
    "print('Accuracy: %.2f%%' %(accuracy*100))"
   ]
  },
  {
   "cell_type": "markdown",
   "metadata": {},
   "source": [
    "#10. Đánh giá mô hình và dự đoán"
   ]
  },
  {
   "cell_type": "code",
   "execution_count": 81,
   "metadata": {},
   "outputs": [
    {
     "ename": "FileNotFoundError",
     "evalue": "[Errno 2] No such file or directory: 'Audi/audi (780).jpg'",
     "output_type": "error",
     "traceback": [
      "\u001b[1;31m---------------------------------------------------------------------------\u001b[0m",
      "\u001b[1;31mFileNotFoundError\u001b[0m                         Traceback (most recent call last)",
      "Cell \u001b[1;32mIn[81], line 8\u001b[0m\n\u001b[0;32m      4\u001b[0m \u001b[38;5;28;01mfrom\u001b[39;00m \u001b[38;5;21;01mtensorflow\u001b[39;00m\u001b[38;5;21;01m.\u001b[39;00m\u001b[38;5;21;01mkeras\u001b[39;00m\u001b[38;5;21;01m.\u001b[39;00m\u001b[38;5;21;01mapplications\u001b[39;00m\u001b[38;5;21;01m.\u001b[39;00m\u001b[38;5;21;01mmobilenet\u001b[39;00m \u001b[38;5;28;01mimport\u001b[39;00m preprocess_input, decode_predictions\n\u001b[0;32m      6\u001b[0m img_path \u001b[38;5;241m=\u001b[39m \u001b[38;5;124m\"\u001b[39m\u001b[38;5;124mAudi/audi (780).jpg\u001b[39m\u001b[38;5;124m\"\u001b[39m\n\u001b[1;32m----> 8\u001b[0m img \u001b[38;5;241m=\u001b[39m \u001b[43mimage\u001b[49m\u001b[38;5;241;43m.\u001b[39;49m\u001b[43mload_img\u001b[49m\u001b[43m(\u001b[49m\u001b[43mimg_path\u001b[49m\u001b[43m,\u001b[49m\u001b[43m \u001b[49m\u001b[43mtarget_size\u001b[49m\u001b[38;5;241;43m=\u001b[39;49m\u001b[43m(\u001b[49m\u001b[38;5;241;43m32\u001b[39;49m\u001b[43m,\u001b[49m\u001b[38;5;241;43m32\u001b[39;49m\u001b[43m)\u001b[49m\u001b[43m)\u001b[49m\n\u001b[0;32m      9\u001b[0m img_preprocessed \u001b[38;5;241m=\u001b[39m np\u001b[38;5;241m.\u001b[39marray(img, dtype\u001b[38;5;241m=\u001b[39m\u001b[38;5;124m'\u001b[39m\u001b[38;5;124mfloat\u001b[39m\u001b[38;5;124m'\u001b[39m)\u001b[38;5;241m/\u001b[39m \u001b[38;5;241m255\u001b[39m\n\u001b[0;32m     11\u001b[0m pred \u001b[38;5;241m=\u001b[39m model\u001b[38;5;241m.\u001b[39mpredict(img_preprocessed)\n",
      "File \u001b[1;32mc:\\Users\\VTOS\\AppData\\Local\\Programs\\Python\\Python311\\Lib\\site-packages\\keras\\src\\utils\\image_utils.py:422\u001b[0m, in \u001b[0;36mload_img\u001b[1;34m(path, grayscale, color_mode, target_size, interpolation, keep_aspect_ratio)\u001b[0m\n\u001b[0;32m    420\u001b[0m     \u001b[38;5;28;01mif\u001b[39;00m \u001b[38;5;28misinstance\u001b[39m(path, pathlib\u001b[38;5;241m.\u001b[39mPath):\n\u001b[0;32m    421\u001b[0m         path \u001b[38;5;241m=\u001b[39m \u001b[38;5;28mstr\u001b[39m(path\u001b[38;5;241m.\u001b[39mresolve())\n\u001b[1;32m--> 422\u001b[0m     \u001b[38;5;28;01mwith\u001b[39;00m \u001b[38;5;28;43mopen\u001b[39;49m\u001b[43m(\u001b[49m\u001b[43mpath\u001b[49m\u001b[43m,\u001b[49m\u001b[43m \u001b[49m\u001b[38;5;124;43m\"\u001b[39;49m\u001b[38;5;124;43mrb\u001b[39;49m\u001b[38;5;124;43m\"\u001b[39;49m\u001b[43m)\u001b[49m \u001b[38;5;28;01mas\u001b[39;00m f:\n\u001b[0;32m    423\u001b[0m         img \u001b[38;5;241m=\u001b[39m pil_image\u001b[38;5;241m.\u001b[39mopen(io\u001b[38;5;241m.\u001b[39mBytesIO(f\u001b[38;5;241m.\u001b[39mread()))\n\u001b[0;32m    424\u001b[0m \u001b[38;5;28;01melse\u001b[39;00m:\n",
      "\u001b[1;31mFileNotFoundError\u001b[0m: [Errno 2] No such file or directory: 'Audi/audi (780).jpg'"
     ]
    }
   ],
   "source": [
    "import PIL\n",
    "import matplotlib.pyplot as plt\n",
    "from tensorflow.keras.preprocessing import image\n",
    "from tensorflow.keras.applications.mobilenet import preprocess_input, decode_predictions\n",
    "\n",
    "img_path = \"Audi/audi (780).jpg\"\n",
    "\n",
    "img = image.load_img(img_path, target_size=(32,32))\n",
    "img_preprocessed = np.array(img, dtype='float')/ 255\n",
    "\n",
    "pred = model.predict(img_preprocessed)\n",
    "Res = argmax(pred, axis=1)      #Trả về lớp\n",
    "print(pred)\n",
    "\n",
    "Result_Text = \"{0} ({1})\".format(categories[Res[0]], round(pred[0][Res[0]] *100,2))\n",
    "plt.text(10,10, Result_Text, color=\"blue\", fontsize='large', bbox=dict(fill=False, edgecolor='red', linewidth=1))\n",
    "plt.imshow(img)\n",
    "plt.show()\n",
    "print(categories[Res[0]], pred[0][Res[0]] *100)"
   ]
  }
 ],
 "metadata": {
  "kernelspec": {
   "display_name": "Python 3",
   "language": "python",
   "name": "python3"
  },
  "language_info": {
   "codemirror_mode": {
    "name": "ipython",
    "version": 3
   },
   "file_extension": ".py",
   "mimetype": "text/x-python",
   "name": "python",
   "nbconvert_exporter": "python",
   "pygments_lexer": "ipython3",
   "version": "3.11.0"
  }
 },
 "nbformat": 4,
 "nbformat_minor": 2
}
